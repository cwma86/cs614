{
 "cells": [
  {
   "cell_type": "markdown",
   "id": "2de2ae45",
   "metadata": {},
   "source": [
    "### Mauer Cory\n",
    "# CS 614 Assignment 4: Gaming\n",
    "## Black Jack card counting agent\n",
    "\n",
    "## Pitch: \n",
    "For this project I chose to build a gaming agent to play blackjack. While most other electronic black jack games are implemented using randomly selected cards, I wanted to model an actual deck of cards to see if I could train a model to count cards using the extra state. The goal of this agent is increase odds of winning in blackjack which could be implemented into a competative online blackjack game. \n",
    "\n",
    "## Data source:\n",
    "The data source of this project is a black jack game that I implemented my self. At a high level, there is one modeled deck of cards and cards are handed out to a player and dealer until our deck reaches 17 cards at which point the \"deck\" is shuffled. the API into the black jack games provides users and models with the following state \n",
    "** players sum of card\n",
    "** dealers sum of cards\n",
    "** if the player has an ace\n",
    "** an array showing the number of cards we have seen 1, 2, ... , 10\n",
    "\n",
    "## Model and data justification:\n",
    "For building my agent I decided to leverage a deep q model via tensor flow. Since each move of black jack can effectively be treated as a unique hand/game there was no need to model any temporal aspects which led to this relatively simple model. "
   ]
  },
  {
   "cell_type": "code",
   "execution_count": 3,
   "id": "4d22c7b2",
   "metadata": {},
   "outputs": [
    {
     "name": "stdout",
     "output_type": "stream",
     "text": [
      "Model: \"sequential_1\"\n",
      "_________________________________________________________________\n",
      " Layer (type)                Output Shape              Param #   \n",
      "=================================================================\n",
      " dense (Dense)               (None, 32)                480       \n",
      "                                                                 \n",
      " dense_1 (Dense)             (None, 128)               4224      \n",
      "                                                                 \n",
      " dense_2 (Dense)             (None, 2)                 258       \n",
      "                                                                 \n",
      "=================================================================\n",
      "Total params: 4,962\n",
      "Trainable params: 4,962\n",
      "Non-trainable params: 0\n",
      "_________________________________________________________________\n"
     ]
    }
   ],
   "source": [
    "    import os\n",
    "    os.environ['TF_CPP_MIN_LOG_LEVEL'] = '3' \n",
    "    from keras.models import Sequential\n",
    "    from keras.layers import Dense\n",
    "    from keras.optimizers import Adam\n",
    "    import tensorflow as tf\n",
    "    state_size = 14\n",
    "    action_state = 2\n",
    "    lr = 0.001\n",
    "    model = Sequential()\n",
    "    model.add(Dense(32, input_dim=state_size, activation='relu'))\n",
    "    model.add(Dense(128, activation='relu'))\n",
    "    model.add(Dense(action_state, activation='softmax'))\n",
    "    model.compile(loss='categorical_crossentropy', optimizer=Adam(learning_rate=lr))\n",
    "\n",
    "    model.summary()\n"
   ]
  },
  {
   "cell_type": "markdown",
   "id": "31f11f8b",
   "metadata": {},
   "source": [
    "## Commented examples:\n",
    "TODO"
   ]
  },
  {
   "cell_type": "markdown",
   "id": "c1a2ac29",
   "metadata": {},
   "source": [
    "## Testing:\n",
    "TODO"
   ]
  },
  {
   "cell_type": "markdown",
   "id": "e427480f",
   "metadata": {},
   "source": [
    "## Code and run Instructions\n",
    "TODO"
   ]
  },
  {
   "cell_type": "markdown",
   "id": "4da81b31",
   "metadata": {},
   "source": [
    "### I agree to sharing this assignment with other students in the course after grading has occurred. "
   ]
  }
 ],
 "metadata": {
  "kernelspec": {
   "display_name": "Python (myenv)",
   "language": "python",
   "name": "myenv"
  },
  "language_info": {
   "codemirror_mode": {
    "name": "ipython",
    "version": 3
   },
   "file_extension": ".py",
   "mimetype": "text/x-python",
   "name": "python",
   "nbconvert_exporter": "python",
   "pygments_lexer": "ipython3",
   "version": "3.9.16"
  }
 },
 "nbformat": 4,
 "nbformat_minor": 5
}
