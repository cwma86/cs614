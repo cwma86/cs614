{
 "cells": [
  {
   "cell_type": "markdown",
   "id": "d99e1be6",
   "metadata": {},
   "source": [
    "# Mauer Cory\n",
    "# CS 614 Assignment 2: Recommender System\n",
    "## Stock Website Reccomender\n",
    "\n",
    "## Pitch: \n",
    "In a previous project I develop a Stock viewing website (https://mauer-stocks.azurewebsites.net/), and in this project I implemented a reccomender system that can reccomend stocks for users. The goal of this system is to improve the user experience while using the site and allow users to easily find new stocks. \n",
    "\n",
    "## Data source:\n",
    "Since I wanted to develop a system that worked well with my website I was unable to leverage an existing data set and instead leveraged the favorites data base used by my website in conjuction with this stock listing website (https://companiesmarketcap.com/all-categories/). My data set was created by creating various users with randomly selected stocks accross various categories such as \n",
    "* Tech\n",
    "* Retail \n",
    "* Realestate\n",
    "* Finance\n",
    "* Defense\n",
    "* Health\n",
    "As well as some mixed category users.  The idea behind the creation of this data set is that I expect many users to focus primarily on specific types of stocks, and wanted a system to would reccomend similar stocks to users. \n",
    "\n",
    "## Model and data justification:\n",
    "For model selection I chose to go with collaborative filtering via matrix factorization approach using Non-negative matrix factorization (sklearn.decomposition.NMF). Since my data set was focused on a binary recomender (user has/has not favorited) and I wanted a highly performant system that could be updated everytime a new user is added, or stock is favorited this seemed like an optimal choice. Since I am currently using a fairly small data set (24 users and 253 stocks) spread across 7 independant types, I decided to perform factorizations using 10 features\n",
    "\n",
    "## Commented examples:\n",
    "The input of the model uses a sparse matrix built from users (rows) and their favorited stocks (columns). "
   ]
  },
  {
   "cell_type": "code",
   "execution_count": 11,
   "id": "1a9d8c43",
   "metadata": {},
   "outputs": [
    {
     "name": "stdout",
     "output_type": "stream",
     "text": [
      "             AAP  AAPL  ABR  ABT  ACI  ADBE  ADSK  AJRD  ALSN  AMC  ...  WDAY  WELL  WFC  WMT  WPM  WWD  XOM   ZG   ZM  ZUMZ\n",
      "Bobby        0.0   0.0  0.0  0.0  0.0   0.0   0.0   0.0   0.0  1.0  ...   0.0   0.0  0.0  0.0  0.0  0.0  0.0  0.0  0.0   0.0\n",
      "Nick2        0.0   0.0  0.0  0.0  0.0   0.0   0.0   0.0   0.0  0.0  ...   0.0   0.0  0.0  0.0  0.0  0.0  0.0  0.0  0.0   0.0\n",
      "automotive   0.0   0.0  0.0  0.0  0.0   0.0   0.0   0.0   1.0  0.0  ...   0.0   0.0  1.0  0.0  0.0  0.0  0.0  0.0  0.0   0.0\n",
      "automotive2  0.0   0.0  0.0  0.0  0.0   0.0   0.0   0.0   0.0  0.0  ...   0.0   0.0  0.0  0.0  0.0  0.0  0.0  0.0  0.0   0.0\n",
      "commodity    0.0   0.0  0.0  0.0  0.0   0.0   0.0   0.0   0.0  0.0  ...   0.0   0.0  0.0  0.0  1.0  0.0  1.0  0.0  0.0   0.0\n",
      "cory         0.0   1.0  0.0  0.0  0.0   0.0   0.0   0.0   0.0  0.0  ...   0.0   0.0  0.0  0.0  0.0  0.0  1.0  0.0  0.0   0.0\n",
      "defense      0.0   0.0  0.0  0.0  0.0   0.0   0.0   0.0   0.0  0.0  ...   0.0   0.0  0.0  0.0  0.0  1.0  0.0  0.0  0.0   0.0\n",
      "defense2     0.0   0.0  0.0  0.0  0.0   0.0   0.0   1.0   0.0  0.0  ...   0.0   0.0  0.0  0.0  0.0  0.0  0.0  0.0  0.0   0.0\n",
      "dev          0.0   0.0  0.0  0.0  0.0   0.0   0.0   0.0   0.0  0.0  ...   0.0   0.0  0.0  0.0  0.0  0.0  0.0  0.0  0.0   0.0\n",
      "dev_new      0.0   0.0  0.0  0.0  0.0   0.0   0.0   0.0   0.0  0.0  ...   0.0   0.0  0.0  0.0  0.0  0.0  0.0  0.0  0.0   0.0\n",
      "finance2     0.0   0.0  0.0  0.0  0.0   0.0   0.0   0.0   0.0  0.0  ...   0.0   0.0  1.0  0.0  0.0  0.0  0.0  0.0  0.0   0.0\n",
      "health       0.0   0.0  0.0  1.0  0.0   0.0   0.0   0.0   0.0  0.0  ...   0.0   0.0  0.0  0.0  0.0  0.0  0.0  0.0  0.0   0.0\n",
      "health2      0.0   0.0  0.0  0.0  0.0   0.0   0.0   0.0   0.0  0.0  ...   0.0   0.0  0.0  0.0  0.0  0.0  0.0  0.0  0.0   0.0\n",
      "popular      0.0   1.0  0.0  0.0  0.0   1.0   0.0   0.0   0.0  0.0  ...   0.0   0.0  0.0  0.0  0.0  0.0  1.0  0.0  0.0   0.0\n",
      "popular2     0.0   1.0  0.0  0.0  0.0   0.0   0.0   0.0   0.0  1.0  ...   0.0   0.0  0.0  0.0  0.0  0.0  0.0  0.0  0.0   0.0\n",
      "realestate   0.0   0.0  0.0  0.0  0.0   0.0   0.0   0.0   0.0  0.0  ...   0.0   1.0  0.0  0.0  0.0  0.0  0.0  0.0  0.0   0.0\n",
      "realestate2  0.0   0.0  1.0  0.0  0.0   0.0   0.0   0.0   0.0  0.0  ...   0.0   0.0  0.0  0.0  0.0  0.0  0.0  1.0  0.0   0.0\n",
      "retail       0.0   0.0  0.0  0.0  0.0   0.0   0.0   0.0   0.0  0.0  ...   0.0   0.0  0.0  1.0  0.0  0.0  0.0  0.0  0.0   1.0\n",
      "retail2      1.0   0.0  0.0  0.0  1.0   0.0   0.0   0.0   0.0  0.0  ...   0.0   0.0  0.0  1.0  0.0  0.0  0.0  0.0  0.0   0.0\n",
      "tech         0.0   1.0  0.0  0.0  0.0   1.0   0.0   0.0   0.0  0.0  ...   1.0   0.0  0.0  0.0  0.0  0.0  0.0  0.0  0.0   0.0\n",
      "tech2        0.0   1.0  0.0  0.0  0.0   0.0   0.0   0.0   0.0  0.0  ...   0.0   0.0  0.0  0.0  0.0  0.0  0.0  1.0  0.0   0.0\n",
      "tech3        0.0   0.0  0.0  0.0  0.0   0.0   1.0   0.0   0.0  0.0  ...   0.0   0.0  0.0  0.0  0.0  0.0  0.0  0.0  1.0   0.0\n",
      "techfinance  0.0   1.0  0.0  0.0  0.0   0.0   0.0   0.0   0.0  0.0  ...   0.0   0.0  1.0  0.0  0.0  0.0  0.0  0.0  0.0   0.0\n",
      "test         0.0   0.0  0.0  0.0  0.0   0.0   0.0   0.0   0.0  0.0  ...   0.0   0.0  0.0  0.0  0.0  0.0  0.0  0.0  0.0   0.0\n",
      "\n",
      "[24 rows x 253 columns]\n"
     ]
    }
   ],
   "source": [
    "import os\n",
    "import pandas as pd\n",
    "from colab_filter import get_users, get_stocks, build_truth_matrix\n",
    "\n",
    "truth_matrix = build_truth_matrix(get_users(), get_stocks())\n",
    "pd.options.display.width = 150\n",
    "\n",
    "## example of the sparse matrix that includes all user favorites\n",
    "print(truth_matrix)"
   ]
  },
  {
   "cell_type": "code",
   "execution_count": null,
   "id": "41804c53",
   "metadata": {},
   "outputs": [],
   "source": [
    "# example of the factored user and stock matrices\n",
    "from colab_filter import train_weights\n",
    "\n",
    "number_of_features = 10 # number of features to be factorized\n",
    "user_weights, stock_weights = train_weights(truth_matrix, number_of_features)\n",
    "print(user_weights)"
   ]
  },
  {
   "cell_type": "markdown",
   "id": "0100cba3",
   "metadata": {},
   "source": [
    "## Testing:\n",
    "Provide a confusion matrix with one or more metrics and comment the results.\n",
    "Code and instructions to run it:\n",
    "Provide a link to the code and any required instructions to run it. Please include some testing examples so we can quickly experience what you experienced with the model.\n",
    "### I agree to sharing this assignment with other students in the course after grading has occurred. "
   ]
  },
  {
   "cell_type": "code",
   "execution_count": null,
   "id": "a0f50a97",
   "metadata": {},
   "outputs": [],
   "source": []
  },
  {
   "cell_type": "code",
   "execution_count": null,
   "id": "2a487ea2",
   "metadata": {},
   "outputs": [],
   "source": []
  },
  {
   "cell_type": "code",
   "execution_count": null,
   "id": "e4f44f66",
   "metadata": {},
   "outputs": [],
   "source": []
  }
 ],
 "metadata": {
  "kernelspec": {
   "display_name": "Python 3 (ipykernel)",
   "language": "python",
   "name": "python3"
  },
  "language_info": {
   "codemirror_mode": {
    "name": "ipython",
    "version": 3
   },
   "file_extension": ".py",
   "mimetype": "text/x-python",
   "name": "python",
   "nbconvert_exporter": "python",
   "pygments_lexer": "ipython3",
   "version": "3.10.6"
  }
 },
 "nbformat": 4,
 "nbformat_minor": 5
}
