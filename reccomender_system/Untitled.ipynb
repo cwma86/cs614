{
 "cells": [
  {
   "cell_type": "markdown",
   "id": "1f3864f9",
   "metadata": {},
   "source": [
    "# Mauer Cory\n",
    "# CS 614 Assignment 2: Recommender System\n",
    "## Stock Website Reccomender\n",
    "\n",
    "## Pitch: \n",
    "In a previous project I develop a Stock viewing website (https://mauer-stocks.azurewebsites.net/), and in this project I implemented a reccomender system that can reccomend stocks for users. The goal of this system is to improve the user experience while using the site and allow users to easily find new stocks. \n",
    "\n",
    "## Data source:\n",
    "Since I wanted to develop a system that worked well with my website I was unable to leverage an existing data set and instead leveraged the favorites data base used by my website in conjuction with this stock listing website (https://companiesmarketcap.com/all-categories/). My data set was created by creating various users with randomly selected stocks accross various categories such as \n",
    "* Tech\n",
    "* Retail \n",
    "* Realestate\n",
    "* Finance\n",
    "* Defense\n",
    "* Health\n",
    "As well as some mixed category users.  The idea behind the creation of this data set is that I expect many users to focus primarily on specific types of stocks, and wanted a system to would reccomend similar stocks to users. \n",
    "\n",
    "## Model and data justification:\n",
    "For model selection I chose to go with collaborative filtering via matrix factorization approach using Non-negative matrix factorization (sklearn.decomposition.NMF). Since my data set was focused on a binary recomender (user has/has not favorited) and I wanted a highly performant system that could be updated everytime a new user is added, or stock is favorited this seemed like an optimal choice. Since I am currently using a fairly small data set (24 users and 253 stocks) spread across 7 independant types, I decided to perform factorizations using 10 features\n",
    "\n",
    "## Commented examples:\n",
    "The input of the model uses a sparse matrix built from users (rows) and their favorited stocks (columns). "
   ]
  },
  {
   "cell_type": "code",
   "execution_count": 38,
   "id": "aae96503",
   "metadata": {},
   "outputs": [
    {
     "name": "stdout",
     "output_type": "stream",
     "text": [
      "             AAP  AAPL  ABR  ABT  ACI  ADBE  ADSK  AJRD  ALSN  AMC  ...  WDAY  WELL  WFC  WMT  WPM  WWD  XOM   ZG   ZM  ZUMZ\n",
      "Bobby        0.0   0.0  0.0  0.0  0.0   0.0   0.0   0.0   0.0  1.0  ...   0.0   0.0  0.0  0.0  0.0  0.0  0.0  0.0  0.0   0.0\n",
      "Nick2        0.0   0.0  0.0  0.0  0.0   0.0   0.0   0.0   0.0  0.0  ...   0.0   0.0  0.0  0.0  0.0  0.0  0.0  0.0  0.0   0.0\n",
      "automotive   0.0   0.0  0.0  0.0  0.0   0.0   0.0   0.0   1.0  0.0  ...   0.0   0.0  1.0  0.0  0.0  0.0  0.0  0.0  0.0   0.0\n",
      "automotive2  0.0   0.0  0.0  0.0  0.0   0.0   0.0   0.0   0.0  0.0  ...   0.0   0.0  0.0  0.0  0.0  0.0  0.0  0.0  0.0   0.0\n",
      "commodity    0.0   0.0  0.0  0.0  0.0   0.0   0.0   0.0   0.0  0.0  ...   0.0   0.0  0.0  0.0  1.0  0.0  1.0  0.0  0.0   0.0\n",
      "...          ...   ...  ...  ...  ...   ...   ...   ...   ...  ...  ...   ...   ...  ...  ...  ...  ...  ...  ...  ...   ...\n",
      "tech         0.0   1.0  0.0  0.0  0.0   1.0   0.0   0.0   0.0  0.0  ...   1.0   0.0  0.0  0.0  0.0  0.0  0.0  0.0  0.0   0.0\n",
      "tech2        0.0   1.0  0.0  0.0  0.0   0.0   0.0   0.0   0.0  0.0  ...   0.0   0.0  0.0  0.0  0.0  0.0  0.0  1.0  0.0   0.0\n",
      "tech3        0.0   0.0  0.0  0.0  0.0   0.0   1.0   0.0   0.0  0.0  ...   0.0   0.0  0.0  0.0  0.0  0.0  0.0  0.0  1.0   0.0\n",
      "techfinance  0.0   1.0  0.0  0.0  0.0   0.0   0.0   0.0   0.0  0.0  ...   0.0   0.0  1.0  0.0  0.0  0.0  0.0  0.0  0.0   0.0\n",
      "test         0.0   0.0  0.0  0.0  0.0   0.0   0.0   0.0   0.0  0.0  ...   0.0   0.0  0.0  0.0  0.0  0.0  0.0  0.0  0.0   0.0\n",
      "\n",
      "[24 rows x 253 columns]\n"
     ]
    }
   ],
   "source": [
    "import os\n",
    "import pandas as pd\n",
    "from colab_filter import get_users, get_stocks, build_truth_matrix\n",
    "\n",
    "truth_matrix = build_truth_matrix(get_users(), get_stocks())\n",
    "pd.options.display.width = 150\n",
    "pd.set_option('display.max_columns', 20)\n",
    "pd.set_option('display.max_rows', 20)\n",
    "\n",
    "## example of the sparse matrix that includes all user favorites\n",
    "print(truth_matrix)"
   ]
  },
  {
   "cell_type": "code",
   "execution_count": 39,
   "id": "d8f9c090",
   "metadata": {},
   "outputs": [
    {
     "name": "stdout",
     "output_type": "stream",
     "text": [
      "                    0         1    2         3    4         5         6         7         8         9\n",
      "Bobby        0.000000  0.000000  0.0  0.000000  0.0  0.000000  0.000000  0.000000  0.000000  0.149416\n",
      "Nick2        0.000000  0.000000  0.0  0.000000  0.0  0.127709  0.000000  0.000000  0.000000  0.000000\n",
      "automotive   0.000000  2.520472  0.0  0.000000  0.0  0.000000  0.000000  0.157964  0.000283  0.000000\n",
      "automotive2  0.000000  1.072822  0.0  0.000000  0.0  0.000000  0.000000  0.000000  0.000000  0.000000\n",
      "commodity    0.000000  0.000000  0.0  0.000000  0.0  0.000000  2.108668  0.000000  0.000000  0.000000\n",
      "...               ...       ...  ...       ...  ...       ...       ...       ...       ...       ...\n",
      "tech         1.356407  0.009710  0.0  0.000000  0.0  0.000000  0.000000  0.000000  0.000000  0.000000\n",
      "tech2        0.802468  0.000000  0.0  0.009709  0.0  0.000000  0.000000  0.000000  0.130352  0.000000\n",
      "tech3        0.858544  0.000000  0.0  0.005589  0.0  0.000000  0.000000  0.000000  0.000000  0.000000\n",
      "techfinance  0.424537  0.146533  0.0  0.000000  0.0  0.000000  0.000000  0.519539  0.000000  0.000000\n",
      "test         0.002609  0.001186  0.0  0.000000  0.0  0.000035  0.000000  0.000000  0.000000  0.000000\n",
      "\n",
      "[24 rows x 10 columns]\n"
     ]
    }
   ],
   "source": [
    "# example of the factored user matrix with each users trained weights\n",
    "from colab_filter import train_weights\n",
    "\n",
    "number_of_features = 10 # number of features to be factorized\n",
    "user_weights, stock_weights = train_weights(truth_matrix, number_of_features)\n",
    "user_weights = pd.DataFrame(user_weights, index=get_users())\n",
    "print(user_weights)"
   ]
  },
  {
   "cell_type": "code",
   "execution_count": 41,
   "id": "a5373e0a",
   "metadata": {},
   "outputs": [
    {
     "name": "stdout",
     "output_type": "stream",
     "text": [
      "        AAP      AAPL       ABR       ABT       ACI  ...       WWD       XOM        ZG        ZM      ZUMZ\n",
      "0  0.000000  0.767507  0.000000  0.000000  0.000000  ...  0.000000  0.225630  0.161137  0.183134  0.000000\n",
      "1  0.000000  0.017028  0.000000  0.000000  0.000000  ...  0.000000  0.016281  0.000000  0.000000  0.000000\n",
      "2  0.000000  0.000000  0.000002  0.000000  0.000000  ...  0.000000  0.000000  0.000000  0.000000  0.000000\n",
      "3  0.280755  0.001868  0.000000  0.000000  0.280755  ...  0.000000  0.014157  0.000000  0.000000  0.381354\n",
      "4  0.000000  0.011281  0.000000  0.321394  0.000000  ...  0.000000  0.028398  0.000000  0.000000  0.001271\n",
      "5  0.000000  0.053300  0.000000  0.000000  0.000000  ...  0.384726  0.051505  0.000000  0.000000  0.000000\n",
      "6  0.000000  0.077029  0.000000  0.000000  0.000000  ...  0.000000  0.570257  0.000000  0.000000  0.000000\n",
      "7  0.000000  0.061634  0.000000  0.000000  0.000000  ...  0.000000  0.016952  0.000000  0.000000  0.000000\n",
      "8  0.000000  0.009233  0.428834  0.000000  0.000000  ...  0.000000  0.000000  0.449772  0.000000  0.000000\n",
      "9  0.000000  0.450104  0.000000  0.000000  0.000000  ...  0.000000  0.077776  0.000000  0.000000  0.000000\n",
      "\n",
      "[10 rows x 253 columns]\n"
     ]
    }
   ],
   "source": [
    "# example of the factored stock matrix with each stocks trained weights\n",
    "stock_weights = pd.DataFrame(stock_weights, columns=get_stocks())\n",
    "pd.set_option('display.max_columns', 10)\n",
    "print(stock_weights)"
   ]
  },
  {
   "cell_type": "markdown",
   "id": "79609af4",
   "metadata": {},
   "source": [
    "Note that we are able to factor our truth matrix down to 2,530 parameters and 240 parameters down from the prediction matrix size of 6,0072 parameters. This allows us to calculate user favorites by multiplying the users row with the stock matrix which results in a 1x240 matrix(array) which can easily be sorted to find the users highest reccomended stocks. \n",
    "\n",
    "Note: That you can kind of see how the factorized matrices are gouping stocks toghether, for example AAPL (Apple) has high rating for feature 0, similar to the tech stock users.  "
   ]
  },
  {
   "cell_type": "markdown",
   "id": "c140c522",
   "metadata": {},
   "source": [
    "## Testing:\n",
    "Provide a confusion matrix with one or more metrics and comment the results.\n",
    "Code and instructions to run it:\n",
    "Provide a link to the code and any required instructions to run it. Please include some testing examples so we can quickly experience what you experienced with the model.\n",
    "### I agree to sharing this assignment with other students in the course after grading has occurred. "
   ]
  },
  {
   "cell_type": "code",
   "execution_count": null,
   "id": "5c01d22f",
   "metadata": {},
   "outputs": [],
   "source": []
  },
  {
   "cell_type": "code",
   "execution_count": null,
   "id": "5695a4ea",
   "metadata": {},
   "outputs": [],
   "source": []
  },
  {
   "cell_type": "code",
   "execution_count": null,
   "id": "aeb210c0",
   "metadata": {},
   "outputs": [],
   "source": []
  }
 ],
 "metadata": {
  "kernelspec": {
   "display_name": "Python 3 (ipykernel)",
   "language": "python",
   "name": "python3"
  },
  "language_info": {
   "codemirror_mode": {
    "name": "ipython",
    "version": 3
   },
   "file_extension": ".py",
   "mimetype": "text/x-python",
   "name": "python",
   "nbconvert_exporter": "python",
   "pygments_lexer": "ipython3",
   "version": "3.10.6"
  }
 },
 "nbformat": 4,
 "nbformat_minor": 5
}
